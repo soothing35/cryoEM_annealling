{
 "cells": [
  {
   "cell_type": "code",
   "execution_count": null,
   "metadata": {},
   "outputs": [],
   "source": [
    "import numpy as np\n",
    "import matplotlib.pyplot as plt\n",
    "import click\n",
    "import mrcfile as mrc"
   ]
  },
  {
   "cell_type": "code",
   "execution_count": null,
   "metadata": {},
   "outputs": [],
   "source": [
    "#based on localres.py\n",
    "def is_mask(mrc):\n",
    "    \"\"\"Checks whether a given MRC file is a mask.\"\"\"\n",
    "    return mrc.header['dmax'] == 1.0\n",
    "\n",
    "'''def compute_values(locres, mask):\n",
    "    \"\"\"Takes MRC files of a local resolution map and a mask, then from their data arrays returns local resolution values of all map voxels within the mask.\"\"\"\n",
    "    \n",
    "    return np.reshape(locres.data[mask.data > 0.5], -1)\n",
    "'''\n",
    "\n",
    "\n",
    "\n",
    "def compute_values(locres, mask):\n",
    "    #print(type(mask),type(mask.data))\n",
    "    \"\"\"Takes MRC files of a local resolution map and a mask, then from their data arrays returns local resolution values of all map voxels within the mask.\"\"\"\n",
    "    a = locres.data[(mask.data > 0.5)]\n",
    "    #print(a[0:10])\n",
    "    b=a[a<10]\n",
    "    print(np.mean(b))\n",
    "    return np.reshape(b, -1)\n",
    "\n",
    "def build_histogram(values, title, nbins):\n",
    "    \"\"\"Builds a histogram of local resolution values.\"\"\"\n",
    "    fig, ax = plt.subplots()\n",
    "    ax.hist(values, bins = nbins)\n",
    "    ax.set_xlabel('Local resolution (Å)')\n",
    "    ax.set_ylabel('Number of map voxels')\n",
    "    ax.set_title(title)\n",
    "    ax.grid(True)\n",
    "    fig.tight_layout()\n",
    "    return fig"
   ]
  },
  {
   "cell_type": "code",
   "execution_count": null,
   "metadata": {},
   "outputs": [],
   "source": [
    "def cli(file1, file2, title, nbins, output_file):\n",
    "    \"\"\"Plots a histogram of local resolution values from a local resolution map and a mask both produced by RELION.\n",
    "\n",
    "    For meaningful results, the mask.mrc file must be the one used for the 3D refinement and post-processing jobs that produced the relion_locres.mrc file.\"\"\"\n",
    "    A = mrc.open(file1)\n",
    "    B = mrc.open(file2)\n",
    "    if is_mask(A):\n",
    "        locres = B\n",
    "        mask = A\n",
    "    else:\n",
    "        locres = A\n",
    "        mask = B\n",
    "    values = compute_values(locres, mask)\n",
    "    histogram = build_histogram(values, title, nbins)\n",
    "    print(values)\n",
    "    if output_file:\n",
    "        histogram.figsize = (11.80, 8.85)\n",
    "        histogram.dpi = 300\n",
    "        plt.savefig(output_file)\n",
    "    else:\n",
    "        plt.show()\n",
    "    locres.close()\n",
    "    mask.close()\n",
    "    A.close()\n",
    "    B.close()"
   ]
  },
  {
   "cell_type": "code",
   "execution_count": null,
   "metadata": {},
   "outputs": [],
   "source": [
    "def his_count(value,bins):\n",
    "    for i in range(int(8/bins)):\n",
    "        if 2+i*bins<10:\n",
    "            print(round(2+i*bins,3),round(2+(i+1)*bins,3),np.size(value[(value>2+i*bins)&(value<=2+(i+1)*bins)]))\n",
    "        else:\n",
    "            break"
   ]
  },
  {
   "cell_type": "code",
   "execution_count": null,
   "metadata": {},
   "outputs": [],
   "source": [
    "import csv\n",
    "def write_points(value,bins,name):\n",
    "    a = []\n",
    "    for i in range(int(8/bins)):\n",
    "        if 2+i*bins<10:\n",
    "            point = [round(2+i*bins,3),round(2+(i+1)*bins,3),np.size(value[(value>2+i*bins)&(value<=2+(i+1)*bins)])]\n",
    "            #print(point)\n",
    "            a.append(point)\n",
    "        else:\n",
    "            break\n",
    "    with open(name, 'w+',newline='') as f:\n",
    "        writer = csv.writer(f)\n",
    "        writer.writerows(a)"
   ]
  },
  {
   "cell_type": "code",
   "execution_count": null,
   "metadata": {},
   "outputs": [],
   "source": [
    "################\n",
    "def figure(four_locres,four_mask,bin1,name,four_name,file_bin):\n",
    "    file_bin = file_bin\n",
    "    \n",
    "    fourstable_locres = mrc.open(four_locres)\n",
    "    fourstable_mask = mrc.open(four_mask)\n",
    "    fourstable_values = compute_values(fourstable_locres, fourstable_mask)\n",
    "    fourstable_locres.close()\n",
    "    fourstable_mask.close()\n",
    "    four_name=four_name\n",
    "    write_points(fourstable_values,file_bin,four_name)\n",
    "    '''''\n",
    "    sanqi_locres = mrc.open('37-20w-map-locres.mrc')\n",
    "    sanqi_mask = mrc.open(sanqi_mask)\n",
    "    sanqi_values = compute_values(sanqi_locres, sanqi_mask)\n",
    "    sanqi_locres.close()\n",
    "    sanqi_mask.close()\n",
    "    sanqi_name = sanqi_name\n",
    "    write_points(sanqi_values,file_bin,sanqi_name)\n",
    "    \n",
    "    sanqi_four_locres = mrc.open('37-4-20w-map-locres.mrc')\n",
    "    sanqi_four_mask = mrc.open(sanqi_four_mask)\n",
    "    sanqi_four_values = compute_values(sanqi_four_locres, sanqi_four_mask)\n",
    "    sanqi_four_locres.close()\n",
    "    sanqi_four_mask.close()\n",
    "    sanqi_four_name = sanqi_four_name\n",
    "    write_points(sanqi_four_values,file_bin,sanqi_four_name)\n",
    "     '''''\n",
    "    fig, ax = plt.subplots()\n",
    "   \n",
    "    #ax.hist([values37,values4], bins = 30)\n",
    "    ax.hist(fourstable_values, bin1, alpha=0.4)\n",
    "    #ax.hist(sanqi_values, bin2, alpha=0.5)\n",
    "    #ax.hist(sanqi_four_values, bin3, alpha=0.4)\n",
    "    ax.set_xlabel('Local resolution (Å)')\n",
    "    ax.set_ylabel('Number of map voxels')\n",
    "    ax.set_title(name)\n",
    "\n",
    "    ax.grid(True)\n",
    "    ax.legend_at_bottom = True\n",
    "    fig.tight_layout()\n",
    "    plt.xlim(2, 10)\n",
    "\n",
    "    plt.show()"
   ]
  },
  {
   "cell_type": "code",
   "execution_count": null,
   "metadata": {},
   "outputs": [],
   "source": [
    "#4stable-20w-2.62A-30S\n",
    "figure('../locres/4stable-20w-2.62A_locres.mrc',\\\n",
    "       '4stable-20w-2.62A-30S-mask.mrc',\\\n",
    "       20,\\\n",
    "       '4stable-20w-2.62A-30S',\\\n",
    "       '4stable-20w-2.62A-30S.csv',\\\n",
    "       0.1)"
   ]
  },
  {
   "cell_type": "code",
   "execution_count": null,
   "metadata": {},
   "outputs": [],
   "source": [
    "#37S-20w-2.71-30S\n",
    "figure('../locres/37S-20w-2.71A_locres.mrc',\\\n",
    "       '37S-20w-2.71-30S-mask.mrc',\\\n",
    "       20,\\\n",
    "       '37S-20w-2.71-30S',\\\n",
    "       '37S-20w-2.71-30S.csv',\\\n",
    "       0.1)"
   ]
  },
  {
   "cell_type": "code",
   "execution_count": null,
   "metadata": {},
   "outputs": [],
   "source": [
    "#37-4-short-new-20w-2.58A-30S\n",
    "figure('../locres/37-4-20w-map-locres.mrc',\\\n",
    "       '37-4-short-new-20w-2.58A-30S-mask.mrc',\\\n",
    "       20,\\\n",
    "       '37-4-short-new-20w-2.58A-30S',\\\n",
    "       '37-4-short-new-20w-2.58A-30S.csv',\\\n",
    "       0.1)"
   ]
  },
  {
   "cell_type": "code",
   "execution_count": null,
   "metadata": {},
   "outputs": [],
   "source": [
    "#37-4-2hours-20w-2.41A-30S\n",
    "figure('../locres/37-4-2hours-20w-2.41A_locres.mrc',\\\n",
    "       '37-4-2hours-20w-2.41A-30S-mask.mrc',\\\n",
    "       20,\\\n",
    "       '37-4-2hours-20w-2.41A-30S',\\\n",
    "       '37-4-2hours-20w-2.41A-30S.csv',\\\n",
    "       0.1)"
   ]
  },
  {
   "cell_type": "code",
   "execution_count": null,
   "metadata": {},
   "outputs": [],
   "source": [
    "#37-5min-icewater-5min-20w-2.57-30S\n",
    "figure('../locres/37-5min-icewater-5min-20w-2.57A_locres.mrc',\\\n",
    "       '37-5min-icewater-5min-20w-2.57-30S-mask.mrc',\\\n",
    "       20,\\\n",
    "       '37-5min-icewater-5min-20w-2.57-30S',\\\n",
    "       '37-5min-icewater-5min-20w-2.57-30S.csv',\\\n",
    "       0.1)"
   ]
  },
  {
   "cell_type": "code",
   "execution_count": null,
   "metadata": {},
   "outputs": [],
   "source": [
    "#37-1min-icewater-5min-20w-2.58-30S\n",
    "figure('../locres/37-1min-icewater-5min-20w-2.58A_locres.mrc',\\\n",
    "       '37-1min-icewater-5min-20w-2.58-30S-mask.mrc',\\\n",
    "       20,\\\n",
    "       '37-1min-icewater-5min-20w-2.58-30S',\\\n",
    "       '37-1min-icewater-5min-20w-2.58-30S.csv',\\\n",
    "       0.1)"
   ]
  },
  {
   "cell_type": "code",
   "execution_count": null,
   "metadata": {},
   "outputs": [],
   "source": [
    "#37-5min-salticewater-30s-icewater-5min-20w-2.42-30S\n",
    "figure('../locres/37-5min-salticewater-30s-icewater-5min-20w-2.42A_locres.mrc',\\\n",
    "       '37-5min-salticewater-30s-icewater-5min-20w-2.42-30S-mask.mrc',\\\n",
    "       20,\\\n",
    "       '37-5min-salticewater-30s-icewater-5min-20w-2.42-30S',\\\n",
    "       '37-5min-salticewater-30s-icewater-5min-20w-2.42-30S.csv',\\\n",
    "       0.1)"
   ]
  },
  {
   "cell_type": "code",
   "execution_count": null,
   "metadata": {},
   "outputs": [],
   "source": [
    "#37-5min-icewater-24h-20w-2.53-30S\n",
    "figure('../locres/37-5min-icewater-24h-20w-2.53A_locres.mrc',\\\n",
    "       '37-5min-icewater-24h-20w-2.53-30S-mask.mrc',\\\n",
    "       20,\\\n",
    "       '37-5min-icewater-24h-20w-2.53-30S',\\\n",
    "       '37-5min-icewater-24h-20w-2.53-30S.csv',\\\n",
    "       0.1)"
   ]
  },
  {
   "cell_type": "code",
   "execution_count": null,
   "metadata": {},
   "outputs": [],
   "source": [
    "#30-5min-icewater-5min-20w-2.59-30S\n",
    "figure('../locres/30-5min-icewater-5min-20w-2.59_locres.mrc',\\\n",
    "       '30-5min-icewater-5min-20w-2.59-30S-mask.mrc',\\\n",
    "       20,\\\n",
    "       '30-5min-icewater-5min-20w-2.59-30S',\\\n",
    "       '30-5min-icewater-5min-20w-2.59-30S.csv',\\\n",
    "       0.1)"
   ]
  },
  {
   "cell_type": "code",
   "execution_count": null,
   "metadata": {},
   "outputs": [],
   "source": [
    "#45-5min-icewater-5min-20w-2.64-30S\n",
    "figure('../locres/45-5min-icewater-5min-20w-2.64A_locres.mrc',\\\n",
    "       '45-5min-icewater-5min-20w-2.64-30S-mask.mrc',\\\n",
    "       20,\\\n",
    "       '45-5min-icewater-5min-20w-2.64-30S',\\\n",
    "       '45-5min-icewater-5min-20w-2.64-30S.csv',\\\n",
    "       0.1)"
   ]
  },
  {
   "cell_type": "code",
   "execution_count": null,
   "metadata": {},
   "outputs": [],
   "source": [
    "#55-1min-icewater-5min-20w-2.51-30S\n",
    "figure('../locres/55-1min-icewater-5min-20w-2.51A_locres.mrc',\\\n",
    "       '55-1min-icewater-5min-20w-2.51-30S-mask.mrc',\\\n",
    "       20,\\\n",
    "       '55-1min-icewater-5min-20w-2.51-30S',\\\n",
    "       '55-1min-icewater-5min-20w-2.51-30S.csv',\\\n",
    "       0.1)"
   ]
  },
  {
   "cell_type": "code",
   "execution_count": null,
   "metadata": {},
   "outputs": [],
   "source": [
    "#65-1min-icewater-5min-20w-2.42-30S\n",
    "figure('../locres/65-1min-icewater-5min-20w-2.42A_locres.mrc',\\\n",
    "       '65-1min-icewater-5min-20w-2.42-30S-mask.mrc',\\\n",
    "       20,\\\n",
    "       '65-1min-icewater-5min-20w-2.42-30S',\\\n",
    "       '65-1min-icewater-5min-20w-2.42-30S.csv',\\\n",
    "       0.1)"
   ]
  },
  {
   "cell_type": "code",
   "execution_count": null,
   "metadata": {},
   "outputs": [],
   "source": []
  }
 ],
 "metadata": {
  "kernelspec": {
   "display_name": "Python 3",
   "language": "python",
   "name": "python3"
  },
  "language_info": {
   "codemirror_mode": {
    "name": "ipython",
    "version": 3
   },
   "file_extension": ".py",
   "mimetype": "text/x-python",
   "name": "python",
   "nbconvert_exporter": "python",
   "pygments_lexer": "ipython3",
   "version": "3.7.4"
  }
 },
 "nbformat": 4,
 "nbformat_minor": 2
}
